{
 "cells": [
  {
   "cell_type": "markdown",
   "metadata": {},
   "source": [
    "# C318 - Engenharias de Software - Inatel"
   ]
  },
  {
   "cell_type": "markdown",
   "metadata": {},
   "source": [
    "### Nome: João Vítor Carvalho de Paula Dutra"
   ]
  },
  {
   "cell_type": "markdown",
   "metadata": {},
   "source": [
    "### Nome: Raphael Rangel Freitas"
   ]
  },
  {
   "cell_type": "markdown",
   "metadata": {
    "id": "0-FvhFTeUknv"
   },
   "source": [
    "## Passo 1: Importar bibliotecas"
   ]
  },
  {
   "cell_type": "code",
   "execution_count": null,
   "metadata": {
    "id": "eCxcshsYUaD3",
    "is_executing": true,
    "pycharm": {
     "is_executing": true
    }
   },
   "outputs": [],
   "source": [
    "import pandas as pd\n",
    "from sklearn.tree import DecisionTreeClassifier\n",
    "from sklearn.model_selection import train_test_split\n",
    "from sklearn.metrics import classification_report"
   ]
  },
  {
   "cell_type": "markdown",
   "metadata": {},
   "source": [
    "## Passo 2: Carregar os dados"
   ]
  },
  {
   "cell_type": "code",
   "execution_count": null,
   "metadata": {},
   "outputs": [],
   "source": [
    "dados = pd.read_csv('./data.csv')"
   ]
  },
  {
   "cell_type": "markdown",
   "metadata": {},
   "source": [
    "#### Visualizar as primeiras linhas do conjunto de dados"
   ]
  },
  {
   "cell_type": "code",
   "execution_count": null,
   "metadata": {},
   "outputs": [],
   "source": [
    "# Visualizar as primeiras linhas do conjunto de dados\n",
    "dados.head()"
   ]
  },
  {
   "cell_type": "markdown",
   "metadata": {},
   "source": [
    "#### Trocando na coluna classe a recorrencia sim ou não"
   ]
  },
  {
   "cell_type": "code",
   "execution_count": null,
   "metadata": {
    "id": "sNEDwv_QXUkF"
   },
   "outputs": [],
   "source": [
    "recurrence = ['no','yes']"
   ]
  },
  {
   "cell_type": "code",
   "execution_count": null,
   "metadata": {
    "id": "uYsRPVcJXnpB"
   },
   "outputs": [],
   "source": [
    "dados[\"recurrence\"] = None"
   ]
  },
  {
   "cell_type": "code",
   "execution_count": null,
   "metadata": {
    "id": "J2L7tYufXr7p"
   },
   "outputs": [],
   "source": [
    "dados.iloc[dados.loc[dados[\"class\"] == 1].index, 11] = recurrence[0]\n",
    "dados.iloc[dados.loc[dados[\"class\"] == 2].index, 11] = recurrence[1]"
   ]
  },
  {
   "cell_type": "code",
   "execution_count": null,
   "metadata": {
    "id": "S-aBjEtOYM32"
   },
   "outputs": [],
   "source": [
    "del(dados[\"class\"])\n",
    "del(dados[\"id\"])"
   ]
  },
  {
   "cell_type": "markdown",
   "metadata": {
    "id": "W80YbtXDYbmJ"
   },
   "source": [
    "### Análise Exploratória"
   ]
  },
  {
   "cell_type": "code",
   "execution_count": null,
   "metadata": {
    "colab": {
     "base_uri": "https://localhost:8080/",
     "height": 206
    },
    "id": "XwbosLDOYfBc",
    "outputId": "cd84a09d-ec9f-4e28-ad15-91206675f9bc"
   },
   "outputs": [],
   "source": [
    "dados.head()"
   ]
  },
  {
   "cell_type": "code",
   "execution_count": null,
   "metadata": {
    "colab": {
     "base_uri": "https://localhost:8080/"
    },
    "id": "V9mNW8VWYm0w",
    "outputId": "4e77f2ee-ea5d-4c86-8914-55db95f983bc"
   },
   "outputs": [],
   "source": [
    "dados.isna().any()"
   ]
  },
  {
   "cell_type": "code",
   "execution_count": null,
   "metadata": {
    "id": "VzZI-AbgY5xc"
   },
   "outputs": [],
   "source": [
    "import seaborn as sns\n",
    "import matplotlib.pyplot as plt"
   ]
  },
  {
   "cell_type": "code",
   "execution_count": null,
   "metadata": {
    "colab": {
     "base_uri": "https://localhost:8080/",
     "height": 449
    },
    "id": "zVsIzBrdY_UM",
    "outputId": "81fee4eb-c45b-40f0-ca21-f28637046ccc"
   },
   "outputs": [],
   "source": [
    "sns.scatterplot(data=dados, x=\"age\", y=\"menopause\", hue=\"recurrence\")\n",
    "plt.show()"
   ]
  },
  {
   "cell_type": "code",
   "execution_count": null,
   "metadata": {
    "colab": {
     "base_uri": "https://localhost:8080/",
     "height": 1000
    },
    "id": "G5jituYgZqzE",
    "outputId": "7bff8514-1ed5-4fc3-f2f3-b8305d9cab56"
   },
   "outputs": [],
   "source": [
    "# sns.pairplot(dados, hue=\"recurrence\")"
   ]
  },
  {
   "cell_type": "markdown",
   "metadata": {
    "id": "OlnpbsnxaY0g"
   },
   "source": [
    "### Criação e Treinamento de Modelo"
   ]
  },
  {
   "cell_type": "markdown",
   "metadata": {
    "id": "hWuluBRhazue"
   },
   "source": [
    "#### Divisão de dados"
   ]
  },
  {
   "cell_type": "code",
   "execution_count": null,
   "metadata": {
    "id": "iMfbQTzjaVTy"
   },
   "outputs": [],
   "source": [
    "from sklearn.model_selection import train_test_split"
   ]
  },
  {
   "cell_type": "code",
   "execution_count": null,
   "metadata": {
    "colab": {
     "base_uri": "https://localhost:8080/"
    },
    "id": "tLetmr-OFyEh",
    "outputId": "863232f3-2bbc-4177-8340-3b0969f7e3a7"
   },
   "outputs": [],
   "source": [
    "data = dados.iloc[:, :9]\n",
    "target = dados.iloc[:, -1]\n",
    "print(target)"
   ]
  },
  {
   "cell_type": "code",
   "execution_count": null,
   "metadata": {
    "id": "jrXq8qSOb6dp"
   },
   "outputs": [],
   "source": [
    "x_treino, x_teste, y_treino, y_teste = train_test_split(data, target, test_size=0.2)"
   ]
  },
  {
   "cell_type": "code",
   "execution_count": null,
   "metadata": {
    "colab": {
     "base_uri": "https://localhost:8080/"
    },
    "id": "Kp6dNH57cU7F",
    "outputId": "24de8c73-b9c7-48d7-e4db-a755f0ed1537"
   },
   "outputs": [],
   "source": [
    "print(\"Treino: \", len(x_treino))\n",
    "print(\"Teste: \", len(x_teste))"
   ]
  },
  {
   "cell_type": "markdown",
   "metadata": {
    "id": "bh6Tdp6wcrRb"
   },
   "source": [
    "#### Criação do Modelo"
   ]
  },
  {
   "cell_type": "code",
   "execution_count": null,
   "metadata": {
    "id": "C4J8bQ8Dci_W"
   },
   "outputs": [],
   "source": [
    "#Primeiro modelo Decision Tree\n",
    "\n",
    "from sklearn import tree\n",
    "modelo1 = tree.DecisionTreeClassifier()\n",
    "modelo1 = modelo1.fit(x_treino, y_treino)"
   ]
  },
  {
   "cell_type": "code",
   "execution_count": null,
   "metadata": {
    "id": "6AiUE_fdOs1y"
   },
   "outputs": [],
   "source": [
    "# Segundo modelo Multilayer Perceptron\n",
    "\n",
    "from sklearn.neural_network import MLPClassifier\n",
    "modelo = MLPClassifier(random_state=1, max_iter=300, hidden_layer_sizes=[200,80,100])\n",
    "modelo = modelo.fit(x_treino, y_treino)"
   ]
  },
  {
   "cell_type": "code",
   "execution_count": null,
   "metadata": {
    "id": "l0RtzGmeOtKN"
   },
   "outputs": [],
   "source": [
    "\n",
    "modelo1 = tree.DecisionTreeClassifier()\n",
    "modelo1 = modelo.fit(x_treino, y_treino)\n",
    "\n",
    "modelo = MLPClassifier(random_state=1, max_iter=300, hidden_layer_sizes=[200,80,100])\n",
    "modelo = modelo.fit(x_treino, y_treino)"
   ]
  },
  {
   "cell_type": "markdown",
   "metadata": {
    "id": "ZytUiN2GdEsz"
   },
   "source": [
    "#### Predições"
   ]
  },
  {
   "cell_type": "code",
   "execution_count": null,
   "metadata": {
    "id": "eTVv_SDnc70-"
   },
   "outputs": [],
   "source": [
    "y_predicao1 = modelo1.predict(x_teste)\n",
    "y_predicao = modelo.predict(x_teste)"
   ]
  },
  {
   "cell_type": "code",
   "execution_count": null,
   "metadata": {
    "colab": {
     "base_uri": "https://localhost:8080/"
    },
    "id": "6ZPXFGvfdS-4",
    "outputId": "3888bfd5-bf53-4f4f-9d46-1262b3eba3d8"
   },
   "outputs": [],
   "source": [
    "y_predicao1"
   ]
  },
  {
   "cell_type": "code",
   "execution_count": null,
   "metadata": {},
   "outputs": [],
   "source": [
    "y_predicao"
   ]
  },
  {
   "cell_type": "markdown",
   "metadata": {
    "id": "VVt4d1LtdhfJ"
   },
   "source": [
    "#### Avaliar o Modelo"
   ]
  },
  {
   "cell_type": "code",
   "execution_count": null,
   "metadata": {
    "id": "MxQIFuEBdUSE"
   },
   "outputs": [],
   "source": [
    "from sklearn.metrics import classification_report"
   ]
  },
  {
   "cell_type": "code",
   "execution_count": null,
   "metadata": {
    "id": "PkuuURs6doHN"
   },
   "outputs": [],
   "source": [
    "report1 = classification_report(y_teste, y_predicao1, target_names=recurrence)"
   ]
  },
  {
   "cell_type": "code",
   "execution_count": null,
   "metadata": {
    "colab": {
     "base_uri": "https://localhost:8080/"
    },
    "id": "E1Vp3CdDdyzz",
    "outputId": "a8d24b4a-480a-4353-ff47-29b65046f3d0"
   },
   "outputs": [],
   "source": [
    "print(\"Report para o modelo Decision Tree\\n\")\n",
    "print(report1)"
   ]
  },
  {
   "cell_type": "code",
   "execution_count": null,
   "metadata": {},
   "outputs": [],
   "source": [
    "report = classification_report(y_teste, y_predicao, target_names=recurrence)"
   ]
  },
  {
   "cell_type": "code",
   "execution_count": null,
   "metadata": {},
   "outputs": [],
   "source": [
    "print(\"Report para o modelo Multilayer Perceptron\\n\")\n",
    "print(report)"
   ]
  },
  {
   "cell_type": "markdown",
   "metadata": {},
   "source": [
    "### Métricas de avaliação em Gráficos"
   ]
  },
  {
   "cell_type": "code",
   "execution_count": null,
   "metadata": {},
   "outputs": [],
   "source": [
    "from sklearn.metrics import confusion_matrix, accuracy_score, precision_score, recall_score\n",
    "\n",
    "y_predicao1 = modelo1.predict(x_teste)\n",
    "conf_matrix = confusion_matrix(y_teste, y_predicao1)\n",
    "accuracy = accuracy_score(y_teste, y_predicao1)\n",
    "recall = recall_score(y_teste, y_predicao1)\n",
    "\n",
    "print(\"Confusion Matrix:\\n\", conf_matrix)\n",
    "print(\"Acurácia:\", accuracy)\n",
    "print(\"Recall:\", recall)"
   ]
  },
  {
   "cell_type": "code",
   "execution_count": null,
   "metadata": {},
   "outputs": [],
   "source": [
    "entrada = input(\"Entre com os valores de (age menopause tumor-size inv-nodes node-caps deg-malig breast breast-quad irradiat)\").split(\",\")\n",
    "entrada = list(map(int,entrada))\n",
    "entrada = pd.DataFrame([entrada])\n",
    "print(f\"Predição Decision Tree {modelo1.predict(entrada)}\")\n",
    "print(f\"Predição MLP {modelo.predict(entrada)}\")"
   ]
  }
 ],
 "metadata": {
  "colab": {
   "provenance": []
  },
  "kernelspec": {
   "display_name": "Python 3 (ipykernel)",
   "language": "python",
   "name": "python3"
  },
  "language_info": {
   "codemirror_mode": {
    "name": "ipython",
    "version": 3
   },
   "file_extension": ".py",
   "mimetype": "text/x-python",
   "name": "python",
   "nbconvert_exporter": "python",
   "pygments_lexer": "ipython3",
   "version": "3.11.0"
  }
 },
 "nbformat": 4,
 "nbformat_minor": 1
}
